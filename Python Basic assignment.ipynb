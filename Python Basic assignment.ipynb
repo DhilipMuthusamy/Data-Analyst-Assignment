{
  "nbformat": 4,
  "nbformat_minor": 0,
  "metadata": {
    "colab": {
      "provenance": []
    },
    "kernelspec": {
      "name": "python3",
      "display_name": "Python 3"
    },
    "language_info": {
      "name": "python"
    }
  },
  "cells": [
    {
      "cell_type": "code",
      "execution_count": null,
      "metadata": {
        "id": "hdG4ZgEkPIa_"
      },
      "outputs": [],
      "source": []
    },
    {
      "cell_type": "markdown",
      "source": [
        "1.Explain the key features of Python that make it a popular choice for programming\n",
        "\n",
        "Answer:\n",
        "Simple and readability,\n",
        "Supports Automation,\n",
        "Platform independent,\n",
        "Interpreted language"
      ],
      "metadata": {
        "id": "6e7-B0ymPWIf"
      }
    },
    {
      "cell_type": "markdown",
      "source": [
        "2. Describe the role of predefined keywords in Python and provide examples of how they are used in a\n",
        "program\n",
        "\n",
        "Answer:\n",
        "\n",
        "In Python, predefined keywords are reserved words that have specific meanings and purposes within the language. They form the basic syntax and structure of Python code and cannot be used as identifiers."
      ],
      "metadata": {
        "id": "1kZdTG2HPadv"
      }
    },
    {
      "cell_type": "code",
      "source": [
        "#if, elif, else: Used for conditional statements to execute code based on specific conditions.\n",
        "\n",
        "x = 10\n",
        "if x > 7:\n",
        "    print(\"x is greater than 7\")\n",
        "elif x == 5:\n",
        "    print(\"x is equal to 7\")\n",
        "else:\n",
        "    print(\"x is less than 7\")"
      ],
      "metadata": {
        "colab": {
          "base_uri": "https://localhost:8080/"
        },
        "id": "h25JakLXPnsr",
        "outputId": "bae84926-0bf7-4bc5-8c12-fa660262bccc"
      },
      "execution_count": null,
      "outputs": [
        {
          "output_type": "stream",
          "name": "stdout",
          "text": [
            "x is greater than 5\n"
          ]
        }
      ]
    },
    {
      "cell_type": "code",
      "source": [
        "#for, while, break, continue: Used in loops to iterate over sequences or execute a block repeatedly.\n",
        "\n",
        "for i in range(10):\n",
        "    if i == 3:\n",
        "        break  # Stops the loop when i is 3\n",
        "    print(i)\n",
        "\n"
      ],
      "metadata": {
        "colab": {
          "base_uri": "https://localhost:8080/"
        },
        "id": "5uCP4LaIPydu",
        "outputId": "5dc9d072-50ba-407e-be94-31ce3c62edf0"
      },
      "execution_count": null,
      "outputs": [
        {
          "output_type": "stream",
          "name": "stdout",
          "text": [
            "0\n",
            "1\n",
            "2\n"
          ]
        }
      ]
    },
    {
      "cell_type": "code",
      "source": [
        "number = 1\n",
        "\n",
        "while number <= 15:\n",
        "    if number % 2 != 0:\n",
        "        number += 1\n",
        "        continue  # Skip the rest of the loop and continue to the next iteration\n",
        "\n",
        "    # Print the even number\n",
        "    print(number)\n",
        "    # Increment the counter\n",
        "    number += 1"
      ],
      "metadata": {
        "id": "HatZUZZlRWRq"
      },
      "execution_count": null,
      "outputs": []
    },
    {
      "cell_type": "code",
      "source": [
        "# and, in, for\n",
        "\n",
        "#in example\n",
        "names = ['surya','raghul','dhilip','kavin']\n",
        "for i in names:\n",
        "  print(i)\n",
        "\n",
        "if 'surya' in names:\n",
        "  print(\"yes\")\n",
        "\n",
        "else :\n",
        "  print(\"no\")\n",
        "\n",
        "x = 5\n",
        "y = 10\n",
        "z = 25\n",
        "\n",
        "# is example\n",
        "if x is y:\n",
        "  print(\"same\")\n",
        "else\n",
        "  print(\"not equal\")\n",
        "\n",
        "# and example\n",
        "if x > y and z > x:\n",
        "    print(\"Both conditions are True\")\n",
        "\n",
        "\n",
        "\n",
        "\n"
      ],
      "metadata": {
        "colab": {
          "base_uri": "https://localhost:8080/"
        },
        "id": "OusF_MzHBYXT",
        "outputId": "f1ed650d-afcc-4920-9e31-128519d8dfaf"
      },
      "execution_count": 5,
      "outputs": [
        {
          "output_type": "stream",
          "name": "stdout",
          "text": [
            "surya\n",
            "raghul\n",
            "dhilip\n",
            "kavin\n",
            "yes\n"
          ]
        }
      ]
    },
    {
      "cell_type": "markdown",
      "source": [
        "3.Compare and contrast mutable and immutable objects in Python with examples\n",
        "\n",
        "Answer:\n",
        "\n",
        "- Mutable objects can be changed after they are created.\n",
        "- Immutable objects cannot be changed once they are created."
      ],
      "metadata": {
        "id": "0VH_dtk8QNfc"
      }
    },
    {
      "cell_type": "code",
      "source": [
        "# Example for mutable\n",
        "my_list = [1, 2, 3]\n",
        "\n",
        "my_list[0] = 10\n",
        "print(my_list)  # Output: [10, 2, 3]\n"
      ],
      "metadata": {
        "colab": {
          "base_uri": "https://localhost:8080/"
        },
        "id": "u5XS2m3WQXsO",
        "outputId": "76acb680-fa8d-4c1e-ecf3-24e42273db5f"
      },
      "execution_count": null,
      "outputs": [
        {
          "output_type": "stream",
          "name": "stdout",
          "text": [
            "[10, 2, 3]\n"
          ]
        }
      ]
    },
    {
      "cell_type": "code",
      "source": [
        "# Example of immutable\n",
        "my_string = \"hello\"\n",
        "\n",
        "my_string = my_string + \" world\"\n",
        "print(my_string)\n"
      ],
      "metadata": {
        "id": "DmiM6-kmQvLX"
      },
      "execution_count": null,
      "outputs": []
    },
    {
      "cell_type": "markdown",
      "source": [
        "4.Discuss the different types of operators in Python and provide examples of how they are used\n"
      ],
      "metadata": {
        "id": "b4ApUfRlSSLp"
      }
    },
    {
      "cell_type": "code",
      "source": [
        "x = 10\n",
        "y = 3\n",
        "z = 25\n",
        "\n",
        "# arithematic operators\n",
        "print(x + y) #Add two values.\n",
        "print(x - y) #Subtracts the right operand from the left.\n",
        "print(x * y) #Multiple two values.\n",
        "print(x / y) #Divides the left operand by the right operand.\n",
        "print(x % y) #Returns the remainder of the division.\n",
        "\n",
        "#Comparision operators\n",
        "print(x==y) # false because both are not same\n",
        "print(x!=y) # true becuse both are not equal\n",
        "print(x>y) # true, x is grater than y\n",
        "print(x<y) # false y is smaller than x\n",
        "print(x>=y) # true because x is grater than y\n",
        "print(x<=y) # false y is smaller than x\n",
        "\n",
        "#Logical operators\n",
        "if x > y and z > x:\n",
        "    print(\"Both conditions are True\")\n",
        "\n",
        "# Using logical OR\n",
        "if x < y or z > x:\n",
        "    print(\"At least one condition is True\")\n",
        "\n",
        "# Using logical NOT\n",
        "if not x < y:\n",
        "    print(\"x is not less than y\")\n",
        "\n",
        "\n"
      ],
      "metadata": {
        "colab": {
          "base_uri": "https://localhost:8080/"
        },
        "id": "-FaldLjKSQV4",
        "outputId": "21a38f26-1be5-44e2-8a28-34ff8c1c244f"
      },
      "execution_count": 3,
      "outputs": [
        {
          "output_type": "stream",
          "name": "stdout",
          "text": [
            "13\n",
            "7\n",
            "30\n",
            "3.3333333333333335\n",
            "1\n",
            "False\n",
            "True\n",
            "True\n",
            "False\n",
            "True\n",
            "False\n",
            "Both conditions are True\n",
            "At least one condition is True\n",
            "x is not less than y\n"
          ]
        }
      ]
    },
    {
      "cell_type": "markdown",
      "source": [
        "5. Type casting\n",
        "\n",
        "Type casting is the process of converting a variable from one data type to another."
      ],
      "metadata": {
        "id": "HKjaQLLFASqf"
      }
    },
    {
      "cell_type": "code",
      "source": [
        "# Integer to float\n",
        "num_int = 5\n",
        "num_float = float(num_int)\n",
        "print(num_float)  # Output: 5.0\n",
        "\n",
        "# Float to integer\n",
        "pi = 3.14159\n",
        "pi_int = int(pi)\n",
        "print(pi_int)  # Output: 3\n",
        "\n",
        "# Boolean to integer\n",
        "is_valid = True\n",
        "is_valid_int = int(is_valid)\n",
        "print(is_valid_int)  # Output: 1\n",
        "\n",
        "# Integer to string\n",
        "age = 25\n",
        "age_str = str(age)\n",
        "print(age_str)  # Output: \"25\"\n",
        "\n",
        "# String to integer\n",
        "num_str = \"10\"\n",
        "num_int = int(num_str)\n",
        "print(num_int)  # Output: 10\n",
        "\n"
      ],
      "metadata": {
        "colab": {
          "base_uri": "https://localhost:8080/"
        },
        "id": "tOvqPRaD6Gsp",
        "outputId": "0a4fcf10-44f8-4a15-db09-8aa31bcca52e"
      },
      "execution_count": 4,
      "outputs": [
        {
          "output_type": "stream",
          "name": "stdout",
          "text": [
            "5.0\n",
            "3\n",
            "1\n",
            "25\n",
            "10\n"
          ]
        }
      ]
    },
    {
      "cell_type": "markdown",
      "source": [
        "6. conditional Statement\n",
        "\n",
        "conditional statements allow you to execute code based on whether a condition is True or False"
      ],
      "metadata": {
        "id": "Y2Zyyi0zDXiT"
      }
    },
    {
      "cell_type": "code",
      "source": [
        "x = 4\n",
        "if x > 7: # checks does this condition if true it execute the associated block of code\n",
        "    print(\"x is greater than 7\")\n",
        "\n",
        "elif x == 5: # checks if the if condtion is false and execute the associated code if it was true\n",
        "    print(\"x is equal to 7\")\n",
        "\n",
        "else: # execute this code when none of the above conditions are true\n",
        "    print(\"x is less than 7\")"
      ],
      "metadata": {
        "colab": {
          "base_uri": "https://localhost:8080/"
        },
        "id": "CZqox0iUDJJw",
        "outputId": "610b6076-a66b-4edd-9e92-49afd1b6fb0a"
      },
      "execution_count": 6,
      "outputs": [
        {
          "output_type": "stream",
          "name": "stdout",
          "text": [
            "x is less than 7\n"
          ]
        }
      ]
    },
    {
      "cell_type": "markdown",
      "source": [
        "7. Types of loops\n",
        "\n",
        "Answer:\n",
        "\n",
        "For loop\n",
        "While loop\n",
        "\n",
        "- The for loop is used to iterate over a sequence and execute a block of code for each item in the sequence.\n",
        "- The while loop repeats as long as a specified condition is True"
      ],
      "metadata": {
        "id": "y90jc-8sEr2q"
      }
    },
    {
      "cell_type": "code",
      "source": [
        "# For loop\n",
        "\n",
        "\n",
        "for i in range(10):\n",
        "\n",
        "    print(i)\n",
        "\n",
        "\n",
        "# while loop\n",
        "\n",
        "number = 1\n",
        "\n",
        "while number <= 15:\n",
        "    if number % 2 != 0:\n",
        "        number += 1\n",
        "        continue  # Skip the rest of the loop and continue to the next iteration\n",
        "\n",
        "    # Print the even number\n",
        "    print(number)\n",
        "    # Increment the counter\n",
        "    number += 1\n",
        "\n"
      ],
      "metadata": {
        "colab": {
          "base_uri": "https://localhost:8080/"
        },
        "id": "MhL18P3xEgjr",
        "outputId": "a68c99ea-0d29-4b8f-ff4d-82b1213c99da"
      },
      "execution_count": 9,
      "outputs": [
        {
          "output_type": "stream",
          "name": "stdout",
          "text": [
            "0\n",
            "1\n",
            "2\n",
            "3\n",
            "4\n",
            "5\n",
            "6\n",
            "7\n",
            "8\n",
            "9\n",
            "2\n",
            "4\n",
            "6\n",
            "8\n",
            "10\n",
            "12\n",
            "14\n"
          ]
        }
      ]
    },
    {
      "cell_type": "code",
      "source": [],
      "metadata": {
        "id": "ub7PvYBlFKJZ"
      },
      "execution_count": 7,
      "outputs": []
    }
  ]
}