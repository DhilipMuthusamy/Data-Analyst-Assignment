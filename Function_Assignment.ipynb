{
  "nbformat": 4,
  "nbformat_minor": 0,
  "metadata": {
    "colab": {
      "provenance": []
    },
    "kernelspec": {
      "name": "python3",
      "display_name": "Python 3"
    },
    "language_info": {
      "name": "python"
    }
  },
  "cells": [
    {
      "cell_type": "markdown",
      "source": [],
      "metadata": {
        "id": "jLho5eeSnQI-"
      }
    },
    {
      "cell_type": "markdown",
      "source": [
        "1. Difference between a function and method in Python\n",
        "\n",
        "Answer:\n",
        "\n",
        "Function\n",
        "A function is a block of code that is defined using the def keyword and is not bound to any object or class.\n",
        "It can be called directly and can be used globally in your code.\n",
        "\n",
        "Method\n",
        "A method is similar to a function, but it is associated with an object (an instance of a class) or a class itself."
      ],
      "metadata": {
        "id": "4F2PAzsZnSIt"
      }
    },
    {
      "cell_type": "markdown",
      "source": [
        "2.   Arguments and parameters in Python\n",
        "\n",
        "Answer\n",
        "\n",
        "Parameters are the placeholders or variables defined in the function's declaration.\n",
        "\n",
        "Arguments are the actual values or data that you pass into a function when calling it."
      ],
      "metadata": {
        "id": "6PZJwDAbnT4M"
      }
    },
    {
      "cell_type": "code",
      "execution_count": null,
      "metadata": {
        "id": "NjalSwEsnOby"
      },
      "outputs": [],
      "source": [
        "def greet(name):  # 'name' is a parameter\n",
        "    print(f\"Hello, {name}!\")\n",
        "\n",
        "    greet(\"Dhilip\")  # \"Dhilip\" is an argument"
      ]
    },
    {
      "cell_type": "markdown",
      "source": [
        "4. The purpose of the return statement in a Python function\n",
        "\n",
        "Answer:\n",
        "\n",
        "Returning a Value to the Caller\n",
        "Ending the Function Execution"
      ],
      "metadata": {
        "id": "VC9VaYGMnwts"
      }
    },
    {
      "cell_type": "markdown",
      "source": [
        "5.  iterators and iterables\n",
        "\n",
        "Answer\n",
        "\n",
        "Iteratable\n",
        "An iterable is any object that can be \"iterated\"\n",
        "Examples of iterables: lists, tuples, strings, dictionaries, sets.\n",
        "\n",
        "Iterator\n",
        "An iterator is an object that represents a stream of data.\n",
        "Iterators are created using the iter() method"
      ],
      "metadata": {
        "id": "76795_-RpdKY"
      }
    },
    {
      "cell_type": "markdown",
      "source": [
        "6. Generators\n",
        "\n",
        "Generators are a special type of iterable in Python that allow you to generate values on the fly instead of storing them in memory.\n",
        "\n",
        "Generators can be defined by two ways\n",
        "1.Functions with the yield keyword.\n",
        "2.Generator expressions"
      ],
      "metadata": {
        "id": "N8bvNkY-rbfr"
      }
    },
    {
      "cell_type": "code",
      "source": [
        "7. Advantages of using generators over regular functions\n",
        "\n",
        "Produce values lazily, one at a time, without storing the entire sequence in memory.\n",
        "This makes them highly efficient for handling large or infinite datasets."
      ],
      "metadata": {
        "id": "i4DOujIvqc3P"
      },
      "execution_count": null,
      "outputs": []
    },
    {
      "cell_type": "markdown",
      "source": [
        "8. Lambda Function\n",
        "\n",
        "Answer:\n",
        "\n",
        "A lambda function in Python is a small, anonymous function defined using the lambda keyword.\n",
        "It can have multiple arguments but must consist of a single expression."
      ],
      "metadata": {
        "id": "1yKJfiMfshaG"
      }
    },
    {
      "cell_type": "code",
      "source": [
        "# A lambda function to calculate the square of a number\n",
        "square = lambda x: x ** 2\n",
        "\n",
        "print(square(5))  # Output: 25\n"
      ],
      "metadata": {
        "id": "Kgw88RtusnQH"
      },
      "execution_count": null,
      "outputs": []
    },
    {
      "cell_type": "markdown",
      "source": [
        "9. map() function\n",
        "\n",
        "The map() function in Python applies a given function to all items in an iterable (like a list, tuple, etc.)"
      ],
      "metadata": {
        "id": "MmTnstj5tOTJ"
      }
    },
    {
      "cell_type": "code",
      "source": [
        "numbers = [1, 2, 3, 4]\n",
        "result = map(lambda x: x ** 2, numbers)\n",
        "print(list(result))  # Output: [1, 4, 9, 16]\n"
      ],
      "metadata": {
        "colab": {
          "base_uri": "https://localhost:8080/"
        },
        "id": "EPYzBoMTtX5i",
        "outputId": "333c98c7-c7d8-4726-a9af-49a08bc357ca"
      },
      "execution_count": null,
      "outputs": [
        {
          "output_type": "stream",
          "name": "stdout",
          "text": [
            "[1, 4, 9, 16]\n"
          ]
        }
      ]
    },
    {
      "cell_type": "markdown",
      "source": [
        "10. filter(), map(),reduce()\n",
        "\n",
        "Answer:\n",
        "\n",
        "1. Filter\n",
        "Filters elements in an iterable based on a condition defined in a function. Returns only the elements that satisfy the condition.\n",
        "\n",
        "2. Map\n",
        "Applies a given function to each item in an iterable and returns an iterator with the transformed items.\n",
        "\n",
        "3.Reduce\n",
        "Applies a function cumulatively to the items of an iterable, reducing it to a single value."
      ],
      "metadata": {
        "id": "yRyW4hsLttBR"
      }
    },
    {
      "cell_type": "code",
      "source": [
        "#Filter\n",
        "numbers = [1, 2, 3, 4, 5]\n",
        "evens = filter(lambda x: x % 2 == 0, numbers)\n",
        "print(list(evens))  # Output: [2, 4]\n",
        "\n",
        "#Map\n",
        "numbers = [1, 2, 3, 4]\n",
        "result = map(lambda x: x ** 2, numbers)\n",
        "print(list(result))  # Output: [1, 4, 9, 16]\n",
        "\n",
        "#reduce\n",
        "from functools import reduce\n",
        "\n",
        "numbers = [1, 2, 3, 4]\n",
        "product = reduce(lambda x, y: x * y, numbers)\n",
        "print(product)  # Output: 24\n",
        "\n",
        "\n"
      ],
      "metadata": {
        "id": "pjiWrIHht6-8"
      },
      "execution_count": null,
      "outputs": []
    },
    {
      "cell_type": "markdown",
      "source": [
        "11.Internal mechanism for sum operation using reduce function on this given list:[47,11,42,13]\n",
        "\n",
        "Internal Steps\n",
        "\n",
        "The list is [47, 11, 42, 13].\n",
        "The reduce() function starts by taking the first two elements (47 and 11) as inputs to the lambda function.\n",
        "\n",
        "Step 1:\n",
        "Inputs: x = 47, y = 11\n",
        "Operation: x + y = 47 + 11 = 58\n",
        "Result after this step: 58\n",
        "\n",
        "Step 2:\n",
        "Inputs: x = 58 (result from the previous step), y = 42 (next element in the list)\n",
        "Operation: x + y = 58 + 42 = 100\n",
        "Result after this step: 100\n",
        "\n",
        "Step 3:\n",
        "Inputs: x = 100 (result from the previous step), y = 13 (next element in the list)\n",
        "Operation: x + y = 100 + 13 = 113\n",
        "\n",
        "Result after this step: 113\n",
        "\n",
        "Final Result:\n",
        "The final cumulative result is 113.\n"
      ],
      "metadata": {
        "id": "zcia6rkNKvvO"
      }
    },
    {
      "cell_type": "markdown",
      "source": [],
      "metadata": {
        "id": "UusNShNWIEjb"
      }
    }
  ]
}