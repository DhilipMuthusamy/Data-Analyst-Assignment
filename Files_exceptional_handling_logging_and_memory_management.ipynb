{
  "nbformat": 4,
  "nbformat_minor": 0,
  "metadata": {
    "colab": {
      "provenance": []
    },
    "kernelspec": {
      "name": "python3",
      "display_name": "Python 3"
    },
    "language_info": {
      "name": "python"
    }
  },
  "cells": [
    {
      "cell_type": "code",
      "execution_count": null,
      "metadata": {
        "id": "nInz61WawODE"
      },
      "outputs": [],
      "source": [
        "#1. How can you open a file for writing in Python and write a string to it\n",
        "\n",
        "with open('example.txt', 'w') as file:\n",
        "    # Write a string to the file\n",
        "    file.write(\"Hello, this is a test string!\")\n"
      ]
    },
    {
      "cell_type": "code",
      "source": [
        "#2.Program to read the contents of a file and print each line\n",
        "\n",
        "with open('example.txt', 'r') as file:\n",
        "    # Read and print each line in the file\n",
        "    for line in file:\n",
        "        print(line, end='')"
      ],
      "metadata": {
        "id": "gk63uo5hwZ_i"
      },
      "execution_count": null,
      "outputs": []
    },
    {
      "cell_type": "code",
      "source": [
        "#3.How would you handle a case where the file doesn't exist while trying to open it for reading\n",
        "\n",
        "try:\n",
        "    # Try to open the file for reading\n",
        "    with open('example.txt', 'r') as file:\n",
        "        # Read and print each line in the file\n",
        "        for line in file:\n",
        "            print(line, end='')  # Avoid adding an extra newline\n",
        "except FileNotFoundError:\n",
        "    # Handle the case where the file doesn't exist\n",
        "    print(\"The file 'example.txt' does not exist.\")\n"
      ],
      "metadata": {
        "colab": {
          "base_uri": "https://localhost:8080/"
        },
        "id": "LmF78hLywqP3",
        "outputId": "767f9b60-744f-4a51-e828-46a52bd6dc3f"
      },
      "execution_count": null,
      "outputs": [
        {
          "output_type": "stream",
          "name": "stdout",
          "text": [
            "The file 'example.txt' does not exist.\n"
          ]
        }
      ]
    },
    {
      "cell_type": "code",
      "source": [
        "#4. Write a Python script that reads from one file and writes its content to another file\n",
        "\n",
        "# Open the source file for reading and the destination file for writing\n",
        "with open('source.txt', 'r') as source_file:\n",
        "    with open('destination.txt', 'w') as dest_file:\n",
        "        # Read the content of the source file and write it to the destination file\n",
        "        content = source_file.read()\n",
        "        dest_file.write(content)\n"
      ],
      "metadata": {
        "id": "rcM3fW9OxL_e"
      },
      "execution_count": null,
      "outputs": []
    },
    {
      "cell_type": "code",
      "source": [
        "#5.How would you catch and handle division by zero error in Python\n",
        "\n",
        "try:\n",
        "    # Code that might raise a division by zero error\n",
        "    num1 = 10\n",
        "    num2 = 0\n",
        "    result = num1 / num2  # This will raise a ZeroDivisionError\n",
        "except ZeroDivisionError:\n",
        "    # Handle the error\n",
        "    print(\"Error: Cannot divide by zero!\")\n",
        "else:\n",
        "    # If no exception occurs, print the result\n",
        "    print(f\"The result is: {result}\")\n"
      ],
      "metadata": {
        "id": "5ttmYgvVxYvf"
      },
      "execution_count": null,
      "outputs": []
    },
    {
      "cell_type": "code",
      "source": [
        "# 6.Write a Python program that logs an error message to a log file when a division by zero exception occurs\n",
        "\n",
        "import logging\n",
        "\n",
        "# Set up logging configuration\n",
        "logging.basicConfig(filename='error.log', level=logging.ERROR,\n",
        "                    format='%(asctime)s - %(levelname)s - %(message)s')\n",
        "\n",
        "try:\n",
        "    # Attempt division by zero\n",
        "    result = 10 / 0\n",
        "except ZeroDivisionError as e:\n",
        "    # Log the error message\n",
        "    logging.error(\"Division by zero error: %s\", e)\n"
      ],
      "metadata": {
        "id": "te0l_GuSxi_P"
      },
      "execution_count": null,
      "outputs": []
    },
    {
      "cell_type": "code",
      "source": [
        "# 7.How do you log information at different levels (INFO, ERROR, WARNING) in Python using the logging module\n",
        "\n",
        "import logging\n",
        "\n",
        "# Set up logging configuration\n",
        "logging.basicConfig(filename='app.log', level=logging.DEBUG,  # Capture all levels from DEBUG and above\n",
        "                    format='%(asctime)s - %(levelname)s - %(message)s')\n",
        "\n",
        "# Log an INFO message\n",
        "logging.info(\"This is an informational message.\")\n",
        "\n",
        "# Log a WARNING message\n",
        "logging.warning(\"This is a warning message.\")\n",
        "\n",
        "# Log an ERROR message\n",
        "logging.error(\"This is an error message.\")\n",
        "\n",
        "# Log a DEBUG message\n",
        "logging.debug(\"This is a debug message.\")\n",
        "\n",
        "# Log a CRITICAL message\n",
        "logging.critical(\"This is a critical message.\")\n"
      ],
      "metadata": {
        "id": "tlcHnqPkxOl2"
      },
      "execution_count": null,
      "outputs": []
    },
    {
      "cell_type": "code",
      "source": [
        "# 8.Write a program to handle a file opening error using exception handling\n",
        "\n",
        "try:\n",
        "    # Attempt to open a non-existent file\n",
        "    with open('non_existent_file.txt', 'r') as file:\n",
        "        content = file.read()\n",
        "        print(content)\n",
        "except FileNotFoundError as e:\n",
        "    # Handle the file not found error\n",
        "    print(f\"Error: {e}\")\n",
        "    print(\"The file you are trying to open does not exist.\")\n"
      ],
      "metadata": {
        "id": "LM9CQ_BWyBJM"
      },
      "execution_count": null,
      "outputs": []
    },
    {
      "cell_type": "code",
      "source": [
        "# 9.How can you read a file line by line and store its content in a list in Python\n",
        "\n",
        "# Open the file for reading\n",
        "with open('example.txt', 'r') as file:\n",
        "    # Read all lines into a list\n",
        "    lines = file.readlines()\n",
        "\n",
        "# Print the list\n",
        "print(lines)\n",
        "\n"
      ],
      "metadata": {
        "id": "jR0OsJrdyN92"
      },
      "execution_count": null,
      "outputs": []
    },
    {
      "cell_type": "code",
      "source": [
        "# 10. How can you append data to an existing file in Python\n",
        "\n",
        "# Open the file in append mode\n",
        "with open('example.txt', 'a') as file:\n",
        "    # Append a string to the file\n",
        "    file.write(\"This is an additional line of text.\\n\")\n"
      ],
      "metadata": {
        "id": "3aqX9Gjqya8s"
      },
      "execution_count": null,
      "outputs": []
    },
    {
      "cell_type": "code",
      "source": [
        "# 11.Program that uses a try-except block to handle an error when attempting to access a dictionary key that doesn't exist\n",
        "\n",
        "# Example dictionary\n",
        "data = {\"name\": \"Alice\", \"age\": 25, \"city\": \"New York\"}\n",
        "\n",
        "try:\n",
        "    # Attempt to access a non-existent key\n",
        "    value = data[\"country\"]\n",
        "    print(f\"The value is: {value}\")\n",
        "except KeyError:\n",
        "    # Handle the KeyError exception\n",
        "    print(\"Error: The specified key does not exist in the dictionary.\")\n"
      ],
      "metadata": {
        "id": "KzcnYsdHy0ey"
      },
      "execution_count": null,
      "outputs": []
    },
    {
      "cell_type": "code",
      "source": [
        "# 12.Write a program that demonstrates using multiple except blocks to handle different types of exceptions\n",
        "\n",
        "try:\n",
        "    # Attempt to perform operations that may raise different exceptions\n",
        "    num1 = int(input(\"Enter the numerator: \"))\n",
        "    num2 = int(input(\"Enter the denominator: \"))\n",
        "    result = num1 / num2\n",
        "    print(f\"The result is: {result}\")\n",
        "\n",
        "    my_list = [1, 2, 3]\n",
        "    index = int(input(\"Enter an index to access: \"))\n",
        "    print(f\"The value at index {index} is: {my_list[index]}\")\n",
        "\n",
        "except ZeroDivisionError:\n",
        "    print(\"Error: Division by zero is not allowed.\")\n",
        "except ValueError:\n",
        "    print(\"Error: Invalid input. Please enter numeric values only.\")\n",
        "except IndexError:\n",
        "    print(\"Error: Index out of range. Please enter a valid index.\")\n",
        "except Exception as e:\n",
        "    print(f\"An unexpected error occurred: {e}\")\n"
      ],
      "metadata": {
        "id": "ArktDwOj38Zh"
      },
      "execution_count": null,
      "outputs": []
    },
    {
      "cell_type": "code",
      "source": [
        "# 13. How would you check if a file exists before attempting to read it in Python\n",
        "\n",
        "import os\n",
        "\n",
        "file_path = \"example.txt\"\n",
        "\n",
        "if os.path.exists(file_path):\n",
        "    with open(file_path, 'r') as file:\n",
        "        content = file.read()\n",
        "        print(\"File content:\")\n",
        "        print(content)\n",
        "else:\n",
        "    print(f\"The file '{file_path}' does not exist.\")\n"
      ],
      "metadata": {
        "id": "85Ujzl9d4gVK"
      },
      "execution_count": null,
      "outputs": []
    },
    {
      "cell_type": "code",
      "source": [
        "# 14. Write a program that uses the logging module to log both informational and error messages\n",
        "import logging\n",
        "\n",
        "# Configure the logging module\n",
        "logging.basicConfig(\n",
        "    filename='app.log',\n",
        "    level=logging.DEBUG,  # Log all levels (DEBUG, INFO, WARNING, ERROR, CRITICAL)\n",
        "    format='%(asctime)s - %(levelname)s - %(message)s'\n",
        ")\n",
        "\n",
        "def divide_numbers(a, b):\n",
        "    try:\n",
        "        logging.info(\"Starting division operation.\")  # Log informational message\n",
        "        result = a / b\n",
        "        logging.info(f\"Division successful. Result: {result}\")\n",
        "        return result\n",
        "    except ZeroDivisionError as e:\n",
        "        logging.error(\"Error occurred: Division by zero.\")  # Log error message\n",
        "        logging.exception(e)  # Log stack trace\n",
        "    except Exception as e:\n",
        "        logging.error(\"An unexpected error occurred.\")\n",
        "        logging.exception(e)\n",
        "\n",
        "# Example usage\n",
        "divide_numbers(10, 2)  # This will log informational messages\n",
        "divide_numbers(10, 0)  # This will log an error message\n"
      ],
      "metadata": {
        "id": "E-UduqZ25-Sy"
      },
      "execution_count": null,
      "outputs": []
    },
    {
      "cell_type": "code",
      "source": [
        "# 15. Write a Python program that prints the content of a file and handles the case when the file is empty\n",
        "\n",
        "def print_file_content(file_path):\n",
        "    try:\n",
        "        # Open the file in read mode\n",
        "        with open(file_path, 'r') as file:\n",
        "            content = file.read()\n",
        "\n",
        "            if content:  # Check if the file is not empty\n",
        "                print(\"File content:\")\n",
        "                print(content)\n",
        "            else:  # Handle the empty file case\n",
        "                print(f\"The file '{file_path}' is empty.\")\n",
        "    except FileNotFoundError:\n",
        "        print(f\"Error: The file '{file_path}' does not exist.\")\n",
        "    except Exception as e:\n",
        "        print(f\"An unexpected error occurred: {e}\")\n",
        "\n",
        "# Example usage\n",
        "file_path = \"example.txt\"\n",
        "print_file_content(file_path)\n"
      ],
      "metadata": {
        "id": "qXvgIh5r6r1n"
      },
      "execution_count": null,
      "outputs": []
    },
    {
      "cell_type": "code",
      "source": [
        "# 16. Demonstrate how to use memory profiling to check the memory usage of a small program\n",
        "\n",
        "from memory_profiler import profile\n",
        "import time\n",
        "\n",
        "@profile\n",
        "def memory_intensive_task():\n",
        "    print(\"Starting memory-intensive task...\")\n",
        "    large_list = [i for i in range(10**6)]  # Create a large list\n",
        "    time.sleep(2)  # Simulate processing delay\n",
        "    del large_list  # Free up memory\n",
        "    print(\"Memory-intensive task completed.\")\n",
        "\n",
        "if __name__ == \"__main__\":\n",
        "    memory_intensive_task()\n"
      ],
      "metadata": {
        "id": "WFO4vb6g7Ift"
      },
      "execution_count": null,
      "outputs": []
    },
    {
      "cell_type": "code",
      "source": [
        "#16. Write a Python program to create and write a list of numbers to a file, one number per line\n",
        "\n",
        "# Define the list of numbers\n",
        "numbers = [1, 2, 3, 4, 5, 6, 7, 8, 9, 10]\n",
        "\n",
        "# Specify the file name\n",
        "file_name = \"numbers.txt\"\n",
        "\n",
        "try:\n",
        "    # Open the file in write mode\n",
        "    with open(file_name, \"w\") as file:\n",
        "        # Write each number to the file, one per line\n",
        "        for number in numbers:\n",
        "            file.write(f\"{number}\\n\")\n",
        "    print(f\"Numbers successfully written to {file_name}.\")\n",
        "except Exception as e:\n",
        "    print(f\"An error occurred: {e}\")\n"
      ],
      "metadata": {
        "id": "w5ShQNmUxxBd"
      },
      "execution_count": null,
      "outputs": []
    },
    {
      "cell_type": "code",
      "source": [
        "# 18.How would you implement a basic logging setup that logs to a file with rotation after 1MB\n",
        "\n",
        "import logging\n",
        "from logging.handlers import RotatingFileHandler\n",
        "\n",
        "# Set up the logger\n",
        "logger = logging.getLogger(\"RotatingLog\")\n",
        "logger.setLevel(logging.DEBUG)  # Set the logging level\n",
        "\n",
        "# Create a RotatingFileHandler\n",
        "log_file = \"app.log\"\n",
        "max_file_size = 1 * 1024 * 1024  # 1MB\n",
        "backup_count = 5  # Keep 5 backup files\n",
        "\n",
        "handler = RotatingFileHandler(log_file, maxBytes=max_file_size, backupCount=backup_count)\n",
        "handler.setLevel(logging.DEBUG)\n",
        "\n",
        "# Create a formatter and set it for the handler\n",
        "formatter = logging.Formatter(\"%(asctime)s - %(levelname)s - %(message)s\")\n",
        "handler.setFormatter(formatter)\n",
        "\n",
        "# Add the handler to the logger\n",
        "logger.addHandler(handler)\n",
        "\n",
        "# Example usage\n",
        "if __name__ == \"__main__\":\n",
        "    for i in range(10000):\n",
        "        logger.debug(f\"This is log message {i}\")\n"
      ],
      "metadata": {
        "id": "kj2g-Cticbxr"
      },
      "execution_count": null,
      "outputs": []
    },
    {
      "cell_type": "code",
      "source": [
        "# 19.Write a program that handles both IndexError and KeyError using a try-except block\n",
        "\n",
        "try:\n",
        "    # Code that might raise IndexError or KeyError\n",
        "    my_list = [1, 2, 3]\n",
        "    my_dict = {\"a\": 10, \"b\": 20}\n",
        "\n",
        "    # Attempt to access an invalid list index\n",
        "    print(my_list[5])\n",
        "\n",
        "    # Attempt to access a non-existent dictionary key\n",
        "    print(my_dict[\"c\"])\n",
        "except IndexError as e:\n",
        "    # Handle IndexError\n",
        "    print(f\"IndexError occurred: {e}\")\n",
        "except KeyError as e:\n",
        "    # Handle KeyError\n",
        "    print(f\"KeyError occurred: {e}\")\n"
      ],
      "metadata": {
        "id": "SigRWHfdd2Pc"
      },
      "execution_count": null,
      "outputs": []
    },
    {
      "cell_type": "code",
      "source": [
        "# 20. How would you open a file and read its contents using a context manager in Python\n",
        "\n",
        "# Specify the file name\n",
        "file_name = \"example.txt\"\n",
        "\n",
        "try:\n",
        "    # Use a context manager to open the file\n",
        "    with open(file_name, \"r\") as file:\n",
        "        # Read the contents of the file\n",
        "        contents = file.read()\n",
        "        print(\"File Contents:\")\n",
        "        print(contents)\n",
        "except FileNotFoundError:\n",
        "    print(f\"The file '{file_name}' does not exist.\")\n",
        "except Exception as e:\n",
        "    print(f\"An error occurred: {e}\")\n"
      ],
      "metadata": {
        "id": "QF4Rp2Bneorf"
      },
      "execution_count": null,
      "outputs": []
    },
    {
      "cell_type": "code",
      "source": [
        "#21.Write a Python program that reads a file and prints the number of occurrences of a specific word\n",
        "\n",
        "# Specify the file name\n",
        "file_name = \"sample.txt\"\n",
        "# Specify the word to search for\n",
        "target_word = \"example\"\n",
        "\n",
        "try:\n",
        "    # Open the file in read mode\n",
        "    with open(file_name, \"r\") as file:\n",
        "        # Read the content of the file\n",
        "        content = file.read()\n",
        "\n",
        "        # Count occurrences of the word\n",
        "        word_count = content.lower().split().count(target_word.lower())\n",
        "\n",
        "        # Print the result\n",
        "        print(f\"The word '{target_word}' occurs {word_count} time(s) in the file '{file_name}'.\")\n",
        "except FileNotFoundError:\n",
        "    print(f\"Error: The file '{file_name}' does not exist.\")\n",
        "except Exception as e:\n",
        "    print(f\"An error occurred: {e}\")\n"
      ],
      "metadata": {
        "id": "biQO3mSsfL9o"
      },
      "execution_count": null,
      "outputs": []
    },
    {
      "cell_type": "code",
      "source": [
        "# 22. How can you check if a file is empty before attempting to read its contents\n",
        "import os\n",
        "\n",
        "file_name = \"sample.txt\"\n",
        "\n",
        "# Check if the file exists and if it's empty\n",
        "if os.path.exists(file_name):\n",
        "    if os.path.getsize(file_name) == 0:\n",
        "        print(f\"The file '{file_name}' is empty.\")\n",
        "    else:\n",
        "        print(f\"The file '{file_name}' is not empty.\")\n",
        "else:\n",
        "    print(f\"The file '{file_name}' does not exist.\")\n"
      ],
      "metadata": {
        "id": "1Ew8oUExf4zP"
      },
      "execution_count": null,
      "outputs": []
    },
    {
      "cell_type": "code",
      "source": [
        "#23. Write a Python program that writes to a log file when an error occurs during file handling.\n",
        "import logging\n",
        "\n",
        "# Configure logging\n",
        "log_file = \"error.log\"\n",
        "logging.basicConfig(\n",
        "    filename=log_file,\n",
        "    level=logging.ERROR,\n",
        "    format=\"%(asctime)s - %(levelname)s - %(message)s\"\n",
        ")\n",
        "\n",
        "def process_file(file_name):\n",
        "    try:\n",
        "        # Attempt to open and read the file\n",
        "        with open(file_name, \"r\") as file:\n",
        "            content = file.read()\n",
        "            print(content)\n",
        "    except FileNotFoundError:\n",
        "        error_message = f\"File '{file_name}' not found.\"\n",
        "        print(error_message)\n",
        "        logging.error(error_message)\n",
        "    except PermissionError:\n",
        "        error_message = f\"Permission denied for file '{file_name}'.\"\n",
        "        print(error_message)\n",
        "        logging.error(error_message)\n",
        "    except Exception as e:\n",
        "        error_message = f\"An unexpected error occurred: {e}\"\n",
        "        print(error_message)\n",
        "        logging.error(error_message)\n",
        "\n",
        "# Example usage\n",
        "file_name = \"example.txt\"  # Change this to a non-existent file to trigger an error\n",
        "process_file(file_name)\n",
        "\n",
        "print(f\"Check the log file '{log_file}' for error details.\")\n"
      ],
      "metadata": {
        "id": "fuc_taLpgCSY"
      },
      "execution_count": null,
      "outputs": []
    }
  ]
}