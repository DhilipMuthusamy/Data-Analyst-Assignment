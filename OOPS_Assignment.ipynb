{
  "nbformat": 4,
  "nbformat_minor": 0,
  "metadata": {
    "colab": {
      "provenance": []
    },
    "kernelspec": {
      "name": "python3",
      "display_name": "Python 3"
    },
    "language_info": {
      "name": "python"
    }
  },
  "cells": [
    {
      "cell_type": "markdown",
      "source": [],
      "metadata": {
        "id": "TAf375t5_6Bb"
      }
    },
    {
      "cell_type": "code",
      "execution_count": null,
      "metadata": {
        "id": "ZOjryATL_4qx"
      },
      "outputs": [],
      "source": [
        "1.\tWhat are the five key concepts of Object-Oriented Programming (OOP)\n",
        "Encapsulation\n",
        "Inheritance\n",
        "Polymorphism\n",
        "Abstraction\n",
        "Classes and Objects\n"
      ]
    },
    {
      "cell_type": "markdown",
      "source": [
        "2.\tWrite a Python class for a `Car` with attributes for `make`, `model`, and `year`. Include a method to display the car's information\n",
        "\n"
      ],
      "metadata": {
        "id": "73_GCCne_9TV"
      }
    },
    {
      "cell_type": "code",
      "source": [
        "class Car:\n",
        "    def __init__(self, make, model, year):\n",
        "        \"\"\"Initialize the attributes of the car.\"\"\"\n",
        "        self.make = make\n",
        "        self.model = model\n",
        "        self.year = year\n",
        "\n",
        "    def display_info(self):\n",
        "        \"\"\"Display the car's information.\"\"\"\n",
        "        print(f\"Car Information:\\nMake: {self.make}\\nModel: {self.model}\\nYear: {self.year}\")\n",
        "\n",
        "# Example usage:\n",
        "car1 = Car(\"Toyota\", \"Camry\", 2020)\n",
        "car1.display_info()\n"
      ],
      "metadata": {
        "colab": {
          "base_uri": "https://localhost:8080/"
        },
        "id": "ScMCg2m9AHA6",
        "outputId": "1a839048-e6d1-4eac-c3f7-de282966cbed"
      },
      "execution_count": 1,
      "outputs": [
        {
          "output_type": "stream",
          "name": "stdout",
          "text": [
            "Car Information:\n",
            "Make: Toyota\n",
            "Model: Camry\n",
            "Year: 2020\n"
          ]
        }
      ]
    },
    {
      "cell_type": "markdown",
      "source": [
        "\n",
        "3. Explain the difference between instance methods and class methods. Provide an example of each.\n"
      ],
      "metadata": {
        "id": "ssRlZ6RvAN_s"
      }
    },
    {
      "cell_type": "code",
      "source": [
        "class Calculator:\n",
        "    def add(self, a, b=0, c=0):\n",
        "        \"\"\"Adds up to three numbers.\"\"\"\n",
        "        return a + b + c\n",
        "\n",
        "# Example usage:\n",
        "calc = Calculator()\n",
        "print(calc.add(5))           # Adds one number (5 + 0 + 0)\n",
        "print(calc.add(5, 10))       # Adds two numbers (5 + 10 + 0)\n",
        "print(calc.add(5, 10, 15))   # Adds three numbers (5 + 10 + 15)\n"
      ],
      "metadata": {
        "colab": {
          "base_uri": "https://localhost:8080/"
        },
        "id": "5x0IK-HBAPEH",
        "outputId": "4e91cba0-74bb-470c-a9fb-b1658c77f54a"
      },
      "execution_count": 2,
      "outputs": [
        {
          "output_type": "stream",
          "name": "stdout",
          "text": [
            "5\n",
            "15\n",
            "30\n"
          ]
        }
      ]
    },
    {
      "cell_type": "markdown",
      "source": [
        "4.What are the three types of access modifiers in Python? How are they denoted?\n",
        "\n",
        "Public\n",
        "Private\n",
        "Protected"
      ],
      "metadata": {
        "id": "bHLKc9HzBYg9"
      }
    },
    {
      "cell_type": "code",
      "source": [
        "#public\n",
        "\n",
        "class MyClass:\n",
        "    def __init__(self):\n",
        "        self.public_var = \"I am public\"\n",
        "\n",
        "obj = MyClass()\n",
        "print(obj.public_var)  # Accessible\n",
        "\n",
        "\n",
        "#private\n",
        "class MyClass:\n",
        "    def __init__(self):\n",
        "        self.__private_var = \"I am private\"\n",
        "\n",
        "    def get_private_var(self):\n",
        "        return self.__private_var\n",
        "\n",
        "obj = MyClass()\n",
        "# print(obj.__private_var)  # AttributeError: Not directly accessible\n",
        "print(obj.get_private_var())  # Accessible via a public method\n",
        "\n",
        "#protected\n",
        "\n",
        "class MyClass:\n",
        "    def __init__(self):\n",
        "        self._protected_var = \"I am protected\"\n",
        "\n",
        "obj = MyClass()\n",
        "print(obj._protected_var)  # Accessible but intended for internal use\n"
      ],
      "metadata": {
        "colab": {
          "base_uri": "https://localhost:8080/"
        },
        "id": "V5QmmZOpBgd3",
        "outputId": "838ba072-c49e-41e7-b9fa-da6ad4752920"
      },
      "execution_count": 3,
      "outputs": [
        {
          "output_type": "stream",
          "name": "stdout",
          "text": [
            "I am public\n",
            "I am private\n",
            "I am protected\n"
          ]
        }
      ]
    },
    {
      "cell_type": "markdown",
      "source": [
        "5. Describe the five types of inheritance in Python. Provide a simple example of multiple inheritance\n",
        "\n",
        "Single inheritance\n",
        "Multiple inheritance\n",
        "Multilevel inheritance\n",
        "Hierarchical Inheritance\n",
        "Hybrid Inheritance"
      ],
      "metadata": {
        "id": "omAfV0OYCLZh"
      }
    },
    {
      "cell_type": "code",
      "source": [
        "# Multile inheritance\n",
        "class Parent1:\n",
        "    def greet(self):\n",
        "        print(\"Hello from Parent1!\")\n",
        "\n",
        "class Parent2:\n",
        "    def greet(self):\n",
        "        print(\"Hello from Parent2!\")\n",
        "\n",
        "class Child(Parent1, Parent2):\n",
        "    pass\n",
        "\n",
        "obj = Child()\n",
        "obj.greet()  # Output: Hello from Parent1! (Method Resolution Order - MRO)\n"
      ],
      "metadata": {
        "colab": {
          "base_uri": "https://localhost:8080/"
        },
        "id": "npWcUAfpCusq",
        "outputId": "699e848c-fa51-4df3-f53d-61f26ce4a984"
      },
      "execution_count": 4,
      "outputs": [
        {
          "output_type": "stream",
          "name": "stdout",
          "text": [
            "Hello from Parent1!\n"
          ]
        }
      ]
    },
    {
      "cell_type": "markdown",
      "source": [
        "7. What is the Method Resolution Order (MRO) in Python? How can you retrieve it programmatically\n",
        "\n",
        "Method Resolution Order (MRO) defines the order in which Python looks for a method or attribute in a class hierarchy. It determines the sequence of classes that Python will search to find the appropriate method or attribute"
      ],
      "metadata": {
        "id": "vTqqqb6cC42s"
      }
    },
    {
      "cell_type": "code",
      "source": [
        "# 8. Create an abstract base class Shape with an abstract method area(). Then create two subclasses Circle and Rectangle that implement the area() method.\n",
        "\n",
        "from abc import ABC, abstractmethod\n",
        "import math\n",
        "\n",
        "# Abstract base class\n",
        "class Shape(ABC):\n",
        "    @abstractmethod\n",
        "    def area(self):\n",
        "        pass\n",
        "\n",
        "# Subclass Circle\n",
        "class Circle(Shape):\n",
        "    def __init__(self, radius):\n",
        "        self.radius = radius\n",
        "\n",
        "    def area(self):\n",
        "        return math.pi * (self.radius ** 2)\n",
        "\n",
        "# Subclass Rectangle\n",
        "class Rectangle(Shape):\n",
        "    def __init__(self, width, height):\n",
        "        self.width = width\n",
        "        self.height = height\n",
        "\n",
        "    def area(self):\n",
        "        return self.width * self.height\n",
        "\n",
        "# Example usage\n",
        "circle = Circle(5)\n",
        "print(f\"Area of Circle: {circle.area()}\")\n",
        "\n",
        "rectangle = Rectangle(4, 6)\n",
        "print(f\"Area of Rectangle: {rectangle.area()}\")\n"
      ],
      "metadata": {
        "id": "vP36xcE9ESzP"
      },
      "execution_count": null,
      "outputs": []
    },
    {
      "cell_type": "code",
      "source": [
        "# 9.polymorphism by creating a function that can work with different shape objects to calculate and print their areas.\n",
        "\n",
        "from abc import ABC, abstractmethod\n",
        "import math\n",
        "\n",
        "# Abstract base class\n",
        "class Shape(ABC):\n",
        "    @abstractmethod\n",
        "    def area(self):\n",
        "        pass\n",
        "\n",
        "# Subclass Circle\n",
        "class Circle(Shape):\n",
        "    def __init__(self, radius):\n",
        "        self.radius = radius\n",
        "\n",
        "    def area(self):\n",
        "        return math.pi * (self.radius ** 2)\n",
        "\n",
        "# Subclass Rectangle\n",
        "class Rectangle(Shape):\n",
        "    def __init__(self, width, height):\n",
        "        self.width = width\n",
        "        self.height = height\n",
        "\n",
        "    def area(self):\n",
        "        return self.width * self.height\n",
        "\n",
        "# Function demonstrating polymorphism\n",
        "def print_area(shape: Shape):\n",
        "    print(f\"The area of the shape is: {shape.area()}\")\n",
        "\n",
        "# Example usage\n",
        "circle = Circle(5)\n",
        "rectangle = Rectangle(4, 6)\n",
        "\n",
        "# Demonstrating polymorphism by passing different shape objects\n",
        "print_area(circle)       # Calls Circle's area method\n",
        "print_area(rectangle)    # Calls Rectangle's area method\n",
        "\n"
      ],
      "metadata": {
        "id": "YPHiCx_cEiTA"
      },
      "execution_count": null,
      "outputs": []
    },
    {
      "cell_type": "code",
      "source": [
        "\n",
        "#10.Implement encapsulation in a `BankAccount` class with private attributes for `balance` and `account_number`. Include methods for deposit, withdrawal, and balance inquiry.\n",
        "\n",
        "class BankAccount:\n",
        "    def __init__(self, account_number, initial_balance=0):\n",
        "        # Private attributes\n",
        "        self.__account_number = account_number\n",
        "        self.__balance = initial_balance\n",
        "\n",
        "    # Getter method for account_number\n",
        "    def get_account_number(self):\n",
        "        return self.__account_number\n",
        "\n",
        "    # Getter method for balance\n",
        "    def get_balance(self):\n",
        "        return self.__balance\n",
        "\n",
        "    # Method to deposit money\n",
        "    def deposit(self, amount):\n",
        "        if amount > 0:\n",
        "            self.__balance += amount\n",
        "            print(f\"Deposited: ${amount}. New balance: ${self.__balance}\")\n",
        "        else:\n",
        "            print(\"Deposit amount must be positive.\")\n",
        "\n",
        "    # Method to withdraw money\n",
        "    def withdraw(self, amount):\n",
        "        if amount > 0 and self.__balance >= amount:\n",
        "            self.__balance -= amount\n",
        "            print(f\"Withdrawn: ${amount}. New balance: ${self.__balance}\")\n",
        "        elif amount <= 0:\n",
        "            print(\"Withdrawal amount must be positive.\")\n",
        "        else:\n",
        "            print(\"Insufficient balance.\")\n",
        "\n",
        "# Example usage\n",
        "account = BankAccount(\"1234567890\", 1000)\n",
        "\n",
        "# Accessing account details via getter methods (encapsulation)\n",
        "print(f\"Account Number: {account.get_account_number()}\")\n",
        "print(f\"Balance: ${account.get_balance()}\")\n",
        "\n",
        "# Deposit and withdraw money\n",
        "account.deposit(500)  # Deposit $500\n",
        "account.withdraw(200) # Withdraw $200\n",
        "account.withdraw(1500) # Attempt to withdraw more than available balance\n"
      ],
      "metadata": {
        "id": "hmlSOoPkE1BP"
      },
      "execution_count": null,
      "outputs": []
    },
    {
      "cell_type": "code",
      "source": [
        "# 11. Write a class that overrides the `__str__` and `__add__` magic methods. What will these methods allow you to do?\n",
        "\n",
        "class Point:\n",
        "    def __init__(self, x, y):\n",
        "        self.x = x\n",
        "        self.y = y\n",
        "\n",
        "    # Overriding __str__ to provide a string representation\n",
        "    def __str__(self):\n",
        "        return f\"Point({self.x}, {self.y})\"\n",
        "\n",
        "    # Overriding __add__ to define how two Point objects are added\n",
        "    def __add__(self, other):\n",
        "        if isinstance(other, Point):\n",
        "            return Point(self.x + other.x, self.y + other.y)\n",
        "        return NotImplemented\n",
        "\n",
        "# Example usage:\n",
        "point1 = Point(3, 4)\n",
        "point2 = Point(1, 2)\n",
        "\n",
        "# Using __str__ (printing point objects)\n",
        "print(point1)  # Output: Point(3, 4)\n",
        "print(point2)  # Output: Point(1, 2)\n",
        "\n",
        "# Using __add__ (adding two Point objects)\n",
        "point3 = point1 + point2  # Output: Point(4, 6)\n",
        "print(point3)  # Output: Point(4, 6)\n"
      ],
      "metadata": {
        "id": "wz5Vs19rFAJJ"
      },
      "execution_count": null,
      "outputs": []
    },
    {
      "cell_type": "code",
      "source": [
        "# 12. Create a decorator that measures and prints the execution time of a function.\n",
        "\n",
        "import time\n",
        "\n",
        "# Decorator to measure execution time\n",
        "def measure_execution_time(func):\n",
        "    def wrapper(*args, **kwargs):\n",
        "        start_time = time.time()  # Capture start time\n",
        "        result = func(*args, **kwargs)  # Call the original function\n",
        "        end_time = time.time()  # Capture end time\n",
        "        execution_time = end_time - start_time  # Calculate execution time\n",
        "        print(f\"Execution time of {func.__name__}: {execution_time:.4f} seconds\")\n",
        "        return result  # Return the result of the function\n",
        "    return wrapper\n",
        "\n",
        "# Example function using the decorator\n",
        "@measure_execution_time\n",
        "def example_function():\n",
        "    # Simulate a time-consuming operation\n",
        "    time.sleep(2)  # Sleep for 2 seconds\n",
        "\n",
        "# Call the decorated function\n",
        "example_function()\n"
      ],
      "metadata": {
        "id": "Jvsl6Fv_FfT7"
      },
      "execution_count": null,
      "outputs": []
    },
    {
      "cell_type": "code",
      "source": [
        "# 13.Explain the concept of the Diamond Problem in multiple inheritance. How does Python resolve it?\n",
        "\n",
        "class A:\n",
        "    def method(self):\n",
        "        print(\"Method from class A\")\n",
        "\n",
        "class B(A):\n",
        "    def method(self):\n",
        "        print(\"Method from class B\")\n",
        "\n",
        "class C(A):\n",
        "    def method(self):\n",
        "        print(\"Method from class C\")\n",
        "\n",
        "class D(B, C):\n",
        "    pass\n",
        "\n",
        "# Creating an instance of class D\n",
        "d = D()\n",
        "d.method()\n"
      ],
      "metadata": {
        "id": "bazjAtLTFs6l"
      },
      "execution_count": null,
      "outputs": []
    },
    {
      "cell_type": "code",
      "source": [
        "# 14.Write a class method that keeps track of the number of instances created from a class.\n",
        "\n",
        "class MyClass:\n",
        "    # Class attribute to keep track of the number of instances\n",
        "    instance_count = 0\n",
        "\n",
        "    def __init__(self):\n",
        "        # Increment the instance count every time a new instance is created\n",
        "        MyClass.instance_count += 1\n",
        "\n",
        "    @classmethod\n",
        "    def get_instance_count(cls):\n",
        "        # Class method to return the number of instances created\n",
        "        return cls.instance_count\n",
        "\n",
        "# Example usage:\n",
        "\n",
        "# Creating instances of MyClass\n",
        "obj1 = MyClass()\n",
        "obj2 = MyClass()\n",
        "obj3 = MyClass()\n",
        "\n",
        "# Accessing the class method to get the instance count\n",
        "print(MyClass.get_instance_count())  # Output: 3\n"
      ],
      "metadata": {
        "id": "bAJIPatsFxR7"
      },
      "execution_count": null,
      "outputs": []
    },
    {
      "cell_type": "code",
      "source": [
        "# 15. Implement a static method in a class that checks if a given year is a leap year.\n",
        "\n",
        "class Year:\n",
        "    @staticmethod\n",
        "    def is_leap_year(year):\n",
        "        # A year is a leap year if:\n",
        "        # - It is divisible by 4, and\n",
        "        # - It is not divisible by 100, unless it is also divisible by 400.\n",
        "        if (year % 4 == 0 and year % 100 != 0) or (year % 400 == 0):\n",
        "            return True\n",
        "        return False\n",
        "\n",
        "# Example usage:\n",
        "\n",
        "# Check if a specific year is a leap year\n",
        "print(Year.is_leap_year(2020))  # Output: True\n",
        "print(Year.is_leap_year(2021))  # Output: False\n",
        "print(Year.is_leap_year(1900))  # Output: False\n",
        "print(Year.is_leap_year(2000))  # Output: True\n"
      ],
      "metadata": {
        "colab": {
          "base_uri": "https://localhost:8080/"
        },
        "id": "4Rn-y8r7GB2j",
        "outputId": "d5302b84-682b-4aa6-ae86-a1de182b3247"
      },
      "execution_count": 5,
      "outputs": [
        {
          "output_type": "stream",
          "name": "stdout",
          "text": [
            "True\n",
            "False\n",
            "False\n",
            "True\n"
          ]
        }
      ]
    }
  ]
}