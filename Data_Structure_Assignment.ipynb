{
  "nbformat": 4,
  "nbformat_minor": 0,
  "metadata": {
    "colab": {
      "provenance": []
    },
    "kernelspec": {
      "name": "python3",
      "display_name": "Python 3"
    },
    "language_info": {
      "name": "python"
    }
  },
  "cells": [
    {
      "cell_type": "code",
      "execution_count": null,
      "metadata": {
        "id": "rOf5HQwJTqBY"
      },
      "outputs": [],
      "source": []
    },
    {
      "cell_type": "markdown",
      "source": [
        "1.Slicing\n",
        "\n",
        "Answer:\n",
        "we can return a range of characters by using the slice syntax.\n",
        "\n",
        "we can Specify the start index and the end index, separated by a colon, to return a part of the string."
      ],
      "metadata": {
        "id": "BUmq7yFIT-N8"
      }
    },
    {
      "cell_type": "code",
      "source": [
        "a = \"Hello, World!\"\n",
        "print(a[2:5])# Get the characters from position 2 to position 4\n",
        "\n",
        "print(a[:5]) #Get the characters from the start to position 4\n",
        "\n",
        "print(a[2:]) # Get the characters from position 2"
      ],
      "metadata": {
        "colab": {
          "base_uri": "https://localhost:8080/"
        },
        "id": "b1f8hYD8UM1m",
        "outputId": "9ae11141-3dc5-4424-a84e-100ba298785d"
      },
      "execution_count": null,
      "outputs": [
        {
          "output_type": "stream",
          "name": "stdout",
          "text": [
            "llo\n",
            "Hello\n",
            "llo, World!\n"
          ]
        }
      ]
    },
    {
      "cell_type": "markdown",
      "source": [
        "2.key features of lists in Python\n",
        "\n",
        "Answer:\n",
        "\n",
        "List items are ordered,Heterogeneous changeable, and allow duplicate values\n",
        "\n",
        "The first item has index [0], the second item has index [1] etc."
      ],
      "metadata": {
        "id": "DDDnkzxbVMfg"
      }
    },
    {
      "cell_type": "markdown",
      "source": [
        "3. Access, modify, and delete  in a list\n",
        "\n",
        "Answer:\n",
        "Accessing - we can access by indexing,indexing start from 0.\n",
        "\n",
        "Modify - we can modify value by assigning new value to the respective index.\n",
        "\n",
        "Delete - we can delete by using pop(),clear,remove() and del()."
      ],
      "metadata": {
        "id": "C6EW7L82V4WV"
      }
    },
    {
      "cell_type": "code",
      "source": [
        "names = [\"Dhilip\",\"Kavin\",\"Ram\",\"Vignesh\"]\n",
        "name_list = [\"Dave\",\"Karan\",\"raja\",\"Vimal\",\"Sam\",\"Ragul\"]\n",
        "\n",
        "# Access element\n",
        "print(names[2])\n",
        "print(names[-1])\n",
        "\n",
        "# Modify element\n",
        "names[1]=\"Arun\"\n",
        "print(names)\n",
        "\n",
        "#Delete element\n",
        "name_list.pop() # removes last element\n",
        "\n",
        "name_list.pop(4) #removes indexed element\n",
        "\n",
        "names.clear() # clears the only the element inside the index(not the list)\n",
        "print(names)\n",
        "\n",
        "del name_list[3] # delte element based on index\n",
        "print(name_list)\n",
        "\n",
        "name_list.remove(\"Karan\") # delete element based on matching\n",
        "print(name_list)\n",
        "\n",
        "\n",
        "del name_list  # Deletes the entire list\n",
        "print(name_list)\n"
      ],
      "metadata": {
        "colab": {
          "base_uri": "https://localhost:8080/"
        },
        "id": "v8otLzVJW66F",
        "outputId": "6ac58051-dfdf-499e-9a9a-fb96ea0557d9"
      },
      "execution_count": null,
      "outputs": [
        {
          "output_type": "stream",
          "name": "stdout",
          "text": [
            "Ram\n",
            "Vignesh\n",
            "['Dhilip', 'Arun', 'Ram', 'Vignesh']\n",
            "[]\n",
            "['Dave', 'Karan', 'raja']\n",
            "['Dave', 'raja']\n"
          ]
        }
      ]
    },
    {
      "cell_type": "markdown",
      "source": [
        "4. List vs tuples\n",
        "\n",
        "Answer:\n",
        "\n",
        "List - List items are ordered, heterogeneous, changeable, and allow duplicate values.\n",
        "\n",
        "Lists are created using square brackets [].\n",
        "\n",
        "\n",
        "Tuples - Tuple items are ordered, unchangeable, and allow duplicate values.\n",
        "\n",
        "Tuples are created using parentheses()."
      ],
      "metadata": {
        "id": "nml7Kop0bqEd"
      }
    },
    {
      "cell_type": "code",
      "source": [
        "list_element = [\"Dhilip\",\"Kavin\",\"Ram\",\"Vignesh\"]\n",
        "list_element[3]=\"pwskills\"\n",
        "print(list_element)\n",
        "\n",
        "tuple_item = (1,2,3,4,5)\n",
        "tuple_item[2]=10 # throws error\n"
      ],
      "metadata": {
        "colab": {
          "base_uri": "https://localhost:8080/"
        },
        "id": "eZHskEkichks",
        "outputId": "4c8406a2-a632-4cb8-b47e-06945b653ebd"
      },
      "execution_count": null,
      "outputs": [
        {
          "output_type": "stream",
          "name": "stdout",
          "text": [
            "['Dhilip', 'Kavin', 'Ram', 'pwskills']\n"
          ]
        }
      ]
    },
    {
      "cell_type": "markdown",
      "source": [
        "5. Set in python\n",
        "\n",
        "Answer:\n",
        "\n",
        "Set items are unordered, unchangeable, and do not allow duplicate values."
      ],
      "metadata": {
        "id": "Ed2fN8XMdalD"
      }
    },
    {
      "cell_type": "code",
      "source": [
        "my_set = {1, 2, 2, 3, 4, 4}\n",
        "print(my_set)  # automatically removes the duplicate\n",
        "\n",
        "my_set.add(10) # add 10 to the set\n",
        "print(my_set)"
      ],
      "metadata": {
        "colab": {
          "base_uri": "https://localhost:8080/"
        },
        "id": "TC33W8ZzeCX1",
        "outputId": "711da596-d198-4d58-efe9-512b446e8ac6"
      },
      "execution_count": null,
      "outputs": [
        {
          "output_type": "stream",
          "name": "stdout",
          "text": [
            "{1, 2, 3, 4}\n",
            "{1, 2, 3, 4, 10}\n"
          ]
        }
      ]
    },
    {
      "cell_type": "markdown",
      "source": [
        "6. Use cases of tuples and sets\n",
        "\n",
        "Answer:\n",
        "\n",
        "Tuples:\n",
        "1.Tuples are immutable collections in Python, often used when data should remain constant.\n",
        "2.Tuples are hashable and can be used as keys in dictionaries\n",
        "\n",
        "Sets:\n",
        "1.Sets are collections of unique, unordered elements, commonly used in scenarios requiring uniqueness"
      ],
      "metadata": {
        "id": "IzwjQehRfXdt"
      }
    },
    {
      "cell_type": "code",
      "source": [
        "# tuples\n",
        "# days of the week never changes\n",
        "DAYS_IN_WEEK = (\"Sunday\", \"Monday\", \"Tuesday\", \"Wednesday\", \"Thursday\", \"Friday\", \"Saturday\")\n",
        "print(DAYS_IN_WEEK)\n",
        "\n",
        "#tuple as key in dictionary\n",
        "location_data = {\n",
        "    (1,28): \"India,tamil nadu\",\n",
        "\n",
        "}\n",
        "print(location_data[(1,28)])\n"
      ],
      "metadata": {
        "colab": {
          "base_uri": "https://localhost:8080/"
        },
        "id": "Z3ywm2NJgDVJ",
        "outputId": "653e60b7-ad48-4ad4-e5fa-43cfcbbb75c8"
      },
      "execution_count": null,
      "outputs": [
        {
          "output_type": "stream",
          "name": "stdout",
          "text": [
            "('Sunday', 'Monday', 'Tuesday', 'Wednesday', 'Thursday', 'Friday', 'Saturday')\n",
            "India,tamil nadu\n"
          ]
        }
      ]
    },
    {
      "cell_type": "code",
      "source": [
        "#set\n",
        "\n",
        "my_set = {1, 2, 2, 3, 4, 4}\n",
        "print(my_set)  # automatically removes the duplicate"
      ],
      "metadata": {
        "id": "v-hinzF9hIrl"
      },
      "execution_count": null,
      "outputs": []
    },
    {
      "cell_type": "code",
      "source": [
        "# Questio - 7\n",
        "# 7. To add, modify, and delete items in a dictionary\n",
        "\n",
        "\n",
        "my_dict = {}\n",
        "\n",
        "# Adding items\n",
        "my_dict['name'] = 'Dhilip'\n",
        "my_dict['age'] = 20\n",
        "\n",
        "print(my_dict)\n",
        "\n",
        "\n",
        "# Modifying an existing item\n",
        "my_dict['age'] = 26\n",
        "\n",
        "print(my_dict)\n",
        "\n",
        "\n",
        "# Deleting an item using del\n",
        "del my_dict['age']\n",
        "\n",
        "print(my_dict)"
      ],
      "metadata": {
        "id": "rMsn7pPrUhG8",
        "colab": {
          "base_uri": "https://localhost:8080/"
        },
        "outputId": "d05f1b48-349d-47c6-e80a-2bf65e7abe9d"
      },
      "execution_count": 3,
      "outputs": [
        {
          "output_type": "stream",
          "name": "stdout",
          "text": [
            "{'name': 'Dhilip', 'age': 20}\n",
            "{'name': 'Dhilip', 'age': 26}\n",
            "{'name': 'Dhilip'}\n"
          ]
        }
      ]
    },
    {
      "cell_type": "markdown",
      "source": [
        "8.Importance of dictionary keys being immutable\n",
        "\n",
        "Answer:\n",
        "\n",
        "Dictionary keys need to be hashable, meaning their hash value should not change during their lifetime."
      ],
      "metadata": {
        "id": "CSo64NKwWyq6"
      }
    },
    {
      "cell_type": "code",
      "source": [
        "# Using a dictionary as a key (will raise a TypeError)\n",
        "my_dict = {{'key': 'value'}: 'dict'}  # This will cause an error"
      ],
      "metadata": {
        "id": "o0uJAmCRW6dM"
      },
      "execution_count": null,
      "outputs": []
    }
  ]
}